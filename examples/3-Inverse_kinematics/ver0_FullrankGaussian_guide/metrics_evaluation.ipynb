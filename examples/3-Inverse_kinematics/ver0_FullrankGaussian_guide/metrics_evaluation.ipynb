{
 "cells": [
  {
   "cell_type": "code",
   "execution_count": 1,
   "id": "afe572f0",
   "metadata": {},
   "outputs": [
    {
     "name": "stderr",
     "output_type": "stream",
     "text": [
      "/Users/sharmila/anaconda3/envs/py36_tf2/lib/python3.6/site-packages/ipykernel_launcher.py:16: MatplotlibDeprecationWarning: Support for setting the 'text.latex.preamble' or 'pgf.preamble' rcParam to a list of strings is deprecated since 3.3 and will be removed two minor releases later; set it to a single string instead.\n",
      "  app.launch_new_instance()\n"
     ]
    }
   ],
   "source": [
    "import numpy as np\n",
    "import torch\n",
    "from torch import nn\n",
    "import torch.distributions as dist\n",
    "import scipy.stats as st\n",
    "import pandas as pd\n",
    "import math\n",
    "import os\n",
    "import arviz as az\n",
    "from statistics import mean\n",
    "from IPython.display import display, Latex\n",
    "%matplotlib inline\n",
    "\n",
    "import matplotlib as mpl\n",
    "import matplotlib.pyplot as plt\n",
    "plt.rcParams['text.latex.preamble']=[r\"\\usepackage{lmodern}\"]\n",
    "params = {'text.usetex' : True,\n",
    "          'font.size' : 9,\n",
    "          'font.family' : 'lmodern'\n",
    "          }\n",
    "plt.rcParams.update(params) \n",
    "import seaborn as sns\n",
    "sns.set_context(\"paper\")\n",
    "sns.set_style(\"ticks\")\n",
    "\n",
    "import warnings\n",
    "warnings.filterwarnings(\"ignore\")"
   ]
  },
  {
   "cell_type": "code",
   "execution_count": 2,
   "id": "bf31fa7c",
   "metadata": {},
   "outputs": [],
   "source": [
    "results_dir = os.path.join(os.getcwd(), 'results_metrics/')"
   ]
  },
  {
   "cell_type": "code",
   "execution_count": null,
   "id": "c52defc1",
   "metadata": {},
   "outputs": [],
   "source": []
  },
  {
   "cell_type": "code",
   "execution_count": 3,
   "id": "8cbf743e",
   "metadata": {},
   "outputs": [],
   "source": [
    "def plot(kstest_stats, d_xi):\n",
    "    #mpl.rcParams.update(mpl.rcParamsDefault)\n",
    "    #plt.rcParams.update({'font.size': 9})\n",
    "    \n",
    "    width = 7.5/2\n",
    "    height = width/1.6\n",
    "    figure, ax = plt.subplots(figsize=(width, height)) #figsize=(8, 6)\n",
    "    df = pd.DataFrame({'col':kstest_stats})\n",
    "    y, x, _=plt.hist(kstest_stats, bins = 30) #, label='Histogram of relative error in ' + title\n",
    "    #plt.grid(True)\n",
    "    #plt.legend(loc = 'best', fontsize = 12)\n",
    "    plt.xlabel(\"KS test statistic of \" + r'$\\xi_{%.0f}$' % (d_xi+1))\n",
    "    plt.ylabel(\"Count\",rotation=0)\n",
    "    ax.yaxis.set_label_coords(0.0, 1.05)\n",
    "    sns.despine(trim=True)\n",
    "    plt.tight_layout(pad=0.1)\n",
    "    plt.savefig('hist_kstest_stats_parameter'+ str(d_xi+1) +'.pdf', dpi=300, bbox_inches='tight')\n",
    "    plt.show()"
   ]
  },
  {
   "cell_type": "code",
   "execution_count": 4,
   "id": "d2726601",
   "metadata": {},
   "outputs": [
    {
     "data": {
      "image/png": "[encoded data removed]",
      "text/plain": [
       "<Figure size 270x168.75 with 1 Axes>"
      ]
     },
     "metadata": {},
     "output_type": "display_data"
    },
    {
     "data": {
      "image/png": "[encoded data removed]",
      "text/plain": [
       "<Figure size 270x168.75 with 1 Axes>"
      ]
     },
     "metadata": {},
     "output_type": "display_data"
    },
    {
     "data": {
      "image/png": "[encoded data removed]",
      "text/plain": [
       "<Figure size 270x168.75 with 1 Axes>"
      ]
     },
     "metadata": {},
     "output_type": "display_data"
    },
    {
     "data": {
      "image/png": "[encoded data removed]",
      "text/plain": [
       "<Figure size 270x168.75 with 1 Axes>"
      ]
     },
     "metadata": {},
     "output_type": "display_data"
    }
   ],
   "source": [
    "for d_xi in range(4):\n",
    "    kstest_stats = []\n",
    "    \n",
    "    for j in range(100):\n",
    "        xi_samples_AVI = torch.load(results_dir +str(j)+'_AVI'+'_xi_samples.pt')\n",
    "        xi_samples_MCMC = torch.load(results_dir +str(j)+'_MCMC'+'_xi_samples.pt')\n",
    "        kstest_stat, _ = st.kstest(xi_samples_AVI[:,d_xi].detach().numpy(), xi_samples_MCMC[:,d_xi].detach().numpy())\n",
    "        kstest_stats.append(kstest_stat)\n",
    "    plot(kstest_stats, d_xi)    "
   ]
  },
  {
   "cell_type": "code",
   "execution_count": null,
   "id": "eee4575f",
   "metadata": {},
   "outputs": [],
   "source": []
  },
  {
   "cell_type": "code",
   "execution_count": 5,
   "id": "f9d80fa1",
   "metadata": {},
   "outputs": [],
   "source": [
    "lens = torch.tensor([0.5, 0.5, 1.0]) # lengths of the kinematic links\n",
    "\n",
    "def segment_points(p_, length, angle):\n",
    "    p = torch.zeros(p_.shape)\n",
    "    p[:,0] = p_[:,0] + length * torch.cos(angle)\n",
    "    p[:,1] = p_[:,1] + length * torch.sin(angle)\n",
    "    return p_, p\n",
    "\n",
    "def forward_process(xi): # N x d_xi\n",
    "    \"\"\"\n",
    "    Implements the forward process f(xi) and \n",
    "    and returns each of the arm’s end points as dictionary.\n",
    "    \"\"\"\n",
    "    values = dict();\n",
    "    xi = xi.reshape(-1,4)\n",
    "    A = torch.stack([torch.zeros((xi.shape[0])), xi[:, 0]], axis=1)\n",
    "    _, B = segment_points(A, lens[0], xi[:,1])\n",
    "    _, C = segment_points(B, lens[1], xi[:,1] + xi[:,2])\n",
    "    _, D = segment_points(C, lens[2], xi[:,1] + xi[:,2] + xi[:,3])\n",
    "    values['A'] = A\n",
    "    values['B'] = B\n",
    "    values['C'] = C\n",
    "    values['D'] = D\n",
    "    return values;"
   ]
  },
  {
   "cell_type": "code",
   "execution_count": 6,
   "id": "1644ec3d",
   "metadata": {},
   "outputs": [
    {
     "data": {
      "text/plain": [
       "(torch.Size([100, 4]), torch.Size([100, 2]))"
      ]
     },
     "execution_count": 6,
     "metadata": {},
     "output_type": "execute_result"
    }
   ],
   "source": [
    "xi_data, y_data = torch.load(results_dir +'xi_data.pt'), torch.load(results_dir +'y_data.pt')\n",
    "xi_data.shape, y_data.shape"
   ]
  },
  {
   "cell_type": "code",
   "execution_count": 7,
   "id": "07c01e12",
   "metadata": {},
   "outputs": [
    {
     "name": "stdout",
     "output_type": "stream",
     "text": [
      "tensor(0.0232, grad_fn=<DivBackward0>)\n"
     ]
    }
   ],
   "source": [
    "metric = 0\n",
    "for j in range(100):\n",
    "    \n",
    "    xi_samples_AVI = torch.load(results_dir +str(j)+'_AVI'+'_xi_samples.pt')\n",
    "    diff = forward_process(xi_samples_AVI)['D'] - forward_process(xi_data[j].reshape(1,-1))['D']\n",
    "    #print(diff.shape)\n",
    "    \n",
    "    metric += torch.linalg.norm(diff, 2, dim=1).mean()\n",
    "    \n",
    "print(metric/100)"
   ]
  }
 ],
 "metadata": {
  "kernelspec": {
   "display_name": "Python 3",
   "language": "python",
   "name": "python3"
  },
  "language_info": {
   "codemirror_mode": {
    "name": "ipython",
    "version": 3
   },
   "file_extension": ".py",
   "mimetype": "text/x-python",
   "name": "python",
   "nbconvert_exporter": "python",
   "pygments_lexer": "ipython3",
   "version": "3.6.10"
  }
 },
 "nbformat": 4,
 "nbformat_minor": 5
}
