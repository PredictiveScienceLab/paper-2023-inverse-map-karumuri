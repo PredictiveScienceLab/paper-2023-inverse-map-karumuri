{
 "cells": [
  {
   "cell_type": "code",
   "execution_count": 1,
   "id": "3c4812a3",
   "metadata": {},
   "outputs": [],
   "source": [
    "  #!/usr/bin/env python\n",
    "from __future__ import division\n",
    "import argparse \n",
    "import numpy as np\n",
    "import matplotlib.pyplot as plt\n",
    "from fipy import *\n",
    "import time\n",
    "import matplotlib\n",
    "import numpy as np\n",
    "import pandas as pd\n",
    "from mpl_toolkits.mplot3d import Axes3D\n",
    "from collections import OrderedDict\n",
    "import pymc3 as pm\n",
    "import theano.tensor as tt\n",
    "import arviz as az\n",
    "import pickle"
   ]
  },
  {
   "cell_type": "code",
   "execution_count": 2,
   "id": "ce559389",
   "metadata": {},
   "outputs": [],
   "source": [
    "# from IPython.display import Image\n",
    "# from IPython.core.display import HTML \n",
    "# Image(filename = \"EIT.png\") # width=700, height=700"
   ]
  },
  {
   "cell_type": "code",
   "execution_count": 3,
   "id": "6abb7566",
   "metadata": {},
   "outputs": [],
   "source": [
    "class EIT_fipy():\n",
    "    \"\"\"\n",
    "    Class that solves forward electrostatic EIT BVP for different boundary conditions using fipy package for a circular damage.\n",
    "    x_center:  Location of the damage center.\n",
    "    \"\"\"\n",
    "    def __init__(self, nx1, nx2, x1_center, x2_center):\n",
    "        \n",
    "        # defect with radius r at x_center\n",
    "        self.r = 0.1\n",
    "        self.x_center = np.array([[x1_center, x2_center]])\n",
    "        \n",
    "        # electrical conductivities\n",
    "        self.a_d = 1.5\n",
    "        self.a_o = 10\n",
    "        \n",
    "        self.Expts_description = {\n",
    "                                'Expt-1': 'Unit current applied on all the sides',\n",
    "                                'Expt-2': 'Unit current on left and right, no current on the other sides',\n",
    "                                'Expt-3': 'Unit current on top and bottom, no current on the other sides'\n",
    "                                }\n",
    "        # Applying unit current on the Neumann boundaries\n",
    "        self.j = 1 # unit current\n",
    "        # Boundary conditions value: [left, right, top, bottom]\n",
    "        self.BCs = {\n",
    "                'Expt-1': [self.j/self.a_o, self.j/self.a_o, self.j/self.a_o, self.j/self.a_o],\n",
    "                'Expt-2': [self.j/self.a_o, self.j/self.a_o, 0, 0],\n",
    "                'Expt-3': [0, 0, self.j/self.a_o, self.j/self.a_o]\n",
    "                }\n",
    "\n",
    "        # defining mesh to get cellcenters\n",
    "        self.Lx1 = 1.  # always put . after 1 \n",
    "        self.Lx2 = 1.  # always put . after 1 \n",
    "        self.nx1, self.nx2 = nx1, nx2 #100, 100 #64, 64\n",
    "        self.f = 0. # source\n",
    "        \n",
    "        # define mesh\n",
    "        self.mesh = Grid2D(nx=self.nx1, ny=self.nx2, dx=self.Lx1/self.nx1, dy=self.Lx2/self.nx2) # with nx1*nx2 number of cells/cellcenters/pixels/pixelcenters\n",
    "        self.x_fipy = self.mesh.cellCenters.value.T ## fipy solution (nx1*nx2,2) matrix # same as cellcenters defined above\n",
    "        \n",
    "    def electrical_conductivity(self):\n",
    "        \"\"\"\n",
    "        Getting required electrical conductivities throughout the domain.\n",
    "        \"\"\"\n",
    "        d = np.linalg.norm(self.x_fipy-self.x_center, axis=1)\n",
    "        a = np.zeros(len(d))\n",
    "        filt = np.less_equal( d**2, self.r**2 )\n",
    "        a[filt] = self.a_d # when True\n",
    "        a[~filt] = self.a_o # when False\n",
    "        return a\n",
    "         \n",
    "    def plot_electrical_conductivity(self, save_fig='False'):\n",
    "        \"\"\"\n",
    "        Plotting the electrical conductivity.\n",
    "        \"\"\"\n",
    "        x1_f = self.x_fipy[:,0][:,None] # x1-coordinates of cell centers (nx1*nx2,1) matrix\n",
    "        x2_f = self.x_fipy[:,1][:,None] # x2-coordinates of cell centers (nx1*nx2,1) matrix\n",
    "        a = self.electrical_conductivity()\n",
    "\n",
    "        fig = plt.figure()\n",
    "        axes = fig.gca()\n",
    "        col = axes.contourf(x1_f.reshape((self.nx1, self.nx2)), x2_f.reshape((self.nx1, self.nx2)), a.reshape((self.nx1, self.nx2)), 20, vmin=1.5, vmax=10.0, cmap='Oranges')\n",
    "        plt.colorbar(col) \n",
    "        plt.xlabel('$x1$', fontsize=12)\n",
    "        plt.ylabel('$x2$', fontsize=12)\n",
    "        \n",
    "        if save_fig == 'True':\n",
    "            plt.savefig('conductivity.png') \n",
    "        plt.show()\n",
    "            \n",
    "    def solve(self, expt = 'Expt-1'):\n",
    "        \"\"\"\n",
    "        FIPY solution of the specified experiment.\n",
    "        \"\"\"\n",
    "        # define cell and face variables\n",
    "        phi = CellVariable(name='$T(x)$', mesh=self.mesh, value=0.)\n",
    "        A = CellVariable(name='$D(x)$', mesh=self.mesh, value=1.0) ## coefficient in diffusion equation\n",
    "        # A = FaceVariable(name='$D(x)$', mesh=self.mesh, value=1.0) ## coefficient in diffusion equation\n",
    "        source = CellVariable(name='$f(x)$', mesh=self.mesh, value=1.0)\n",
    "\n",
    "        # apply boundary conditions\n",
    "        # homogeneous Neumann\n",
    "        phi.faceGrad.constrain(self.BCs[expt][0], self.mesh.facesLeft)\n",
    "        phi.faceGrad.constrain(self.BCs[expt][1], self.mesh.facesRight)\n",
    "        phi.faceGrad.constrain(self.BCs[expt][2], self.mesh.facesTop)\n",
    "        phi.faceGrad.constrain(self.BCs[expt][3], self.mesh.facesBottom)\n",
    "\n",
    "        # setup the diffusion problem\n",
    "        eq = -DiffusionTerm(coeff=A) == source\n",
    "\n",
    "        source.setValue(self.f)\n",
    "        a = self.electrical_conductivity()\n",
    "        A.setValue(a)\n",
    "\n",
    "        eq.solve(var=phi)\n",
    "\n",
    "        u_fipy = phi.value[:][:, None] ## fipy solution  (nx1*nx2,1) matrix\n",
    "        return u_fipy\n",
    "            \n",
    "    def forward_process(self, expt = 'Expt-1'):\n",
    "        \n",
    "        x1_f = self.x_fipy[:,0][:,None] # x1-coordinates of cell centers (nx1*nx2,1) matrix\n",
    "        x2_f = self.x_fipy[:,1][:,None] # x2-coordinates of cell centers (nx1*nx2,1) matrix\n",
    "        u_fipy = self.solve(expt)\n",
    "        data = {\n",
    "                'x1_f': x1_f.flatten(),\n",
    "                'x2_f': x2_f.flatten(),\n",
    "                'u_fipy': u_fipy.flatten()\n",
    "                }\n",
    "        df = pd.DataFrame(data)\n",
    "        \n",
    "        N = 50 # Number of observations on each boundary\n",
    "        \n",
    "        p1_ = np.asarray( list(OrderedDict.fromkeys(x1_f.flatten())) ).reshape(-1,1)\n",
    "        p2_ = np.asarray( list(OrderedDict.fromkeys(x2_f.flatten())) ).reshape(-1,1)\n",
    "        \n",
    "        p1 = p1_[np.linspace(1,self.nx1-2,N, dtype = int), :].flatten()\n",
    "        p2 = p2_[np.linspace(1,self.nx2-2,N, dtype = int), :].flatten()\n",
    "        \n",
    "        cond_1 = (df['x1_f'].isin(p1)) & (df['x2_f'] == p2_[0][0]) # bottom\n",
    "        cond_2 = (df['x1_f'].isin(p1)) & (df['x2_f'] == p2_[-1][0]) # top\n",
    "        cond_3 = (df['x1_f'] == p1_[0][0]) & (df['x2_f'].isin(p2)) # left\n",
    "        cond_4 = (df['x1_f'] == p1_[-1][0]) & (df['x2_f'].isin(p2)) # right\n",
    "\n",
    "        idx =  cond_1 | cond_2 | cond_3 | cond_4\n",
    "        df_needed = df[idx].reset_index(drop=True)\n",
    "        \n",
    "        return df_needed['u_fipy'].tolist()\n",
    "\n",
    "        \n",
    "    def solve_all(self):\n",
    "        \"\"\"\n",
    "        FIPY solution of all the experiments.\n",
    "        \"\"\"\n",
    "        u_fipy_dict = {}\n",
    "        for expt, _ in self.BCs.items():\n",
    "            u_fipy_dict[expt] = self.solve(expt)\n",
    "        return u_fipy_dict\n",
    "            \n",
    "    def plot_all(self, u_fipy_dict, save_fig = 'False'): \n",
    "        \"\"\"\n",
    "        Plotting FIPY solution of all the experiments.\n",
    "        \"\"\"            \n",
    "        fig = plt.figure(figsize=(8*len(self.BCs),6))\n",
    "        cmap = matplotlib.colors.LinearSegmentedColormap.from_list(\"\", [\"navy\",\"blue\",\"deepskyblue\",\"limegreen\",\"yellow\",\"darkorange\",\"red\",\"maroon\"])\n",
    "        \n",
    "        for i, expt in zip(range(len(self.BCs)), self.BCs.keys()):\n",
    "            x1_f = self.x_fipy[:,0][:,None] # x1-coordinates of cell centers (nx1*nx2,1) matrix\n",
    "            x2_f = self.x_fipy[:,1][:,None] # x2-coordinates of cell centers (nx1*nx2,1) matrix\n",
    "            \n",
    "            ax = fig.add_subplot(1, len(self.BCs), i+1)\n",
    "            col = ax.contourf( x1_f.reshape((self.nx1, self.nx2)), x2_f.reshape((self.nx1, self.nx2)), u_fipy_dict[expt].reshape((self.nx1, self.nx2)), 100, cmap='twilight') # set levels as previous levels\n",
    "            # This is the fix for the white lines between contour levels (https://stackoverflow.com/questions/8263769/hide-contour-linestroke-on-pyplot-contourf-to-get-only-fills)\n",
    "            for j in col.collections:\n",
    "                j.set_edgecolor(\"face\")\n",
    "            plt.colorbar(col)\n",
    "            plt.title(f'{expt} (FVM solution)',fontsize=14)\n",
    "            plt.xlabel('$x1$', fontsize=12)\n",
    "            plt.ylabel('$x2$', fontsize=12)\n",
    "            \n",
    "        if save_fig == 'True':\n",
    "            plt.tight_layout()\n",
    "            plt.savefig('FVM_solution.png') \n"
   ]
  },
  {
   "cell_type": "code",
   "execution_count": 4,
   "id": "a5880046",
   "metadata": {},
   "outputs": [
    {
     "name": "stdout",
     "output_type": "stream",
     "text": [
      "(3721, 2)\n",
      "[[0.2  0.2 ]\n",
      " [0.21 0.2 ]\n",
      " [0.22 0.2 ]\n",
      " ...\n",
      " [0.78 0.8 ]\n",
      " [0.79 0.8 ]\n",
      " [0.8  0.8 ]]\n"
     ]
    }
   ],
   "source": [
    "x1_center_gt_list = np.arange(0.2,0.8,0.01)\n",
    "x2_center_gt_list = np.arange(0.2,0.8,0.01)\n",
    "x1v, x2v = np.meshgrid(x1_center_gt_list, x2_center_gt_list, indexing='xy')\n",
    "x_center_gt_set = np.hstack((x1v.reshape(-1,1), x2v.reshape(-1,1)))\n",
    "print(x_center_gt_set.shape)\n",
    "print(x_center_gt_set)"
   ]
  },
  {
   "cell_type": "code",
   "execution_count": 5,
   "id": "b4fbe1de",
   "metadata": {},
   "outputs": [],
   "source": [
    "def data_generation(nx1, nx2, x_center_gt_set, expt):\n",
    "    #define matrices to save results \n",
    "    inputs = x_center_gt_set\n",
    "    outputs = np.zeros((x_center_gt_set.shape[0], 200))\n",
    "\n",
    "    for i in range(x_center_gt_set.shape[0]):\n",
    "        obj_gt = EIT_fipy(nx1, nx2, x_center_gt_set[i,0], x_center_gt_set[i,1])\n",
    "        u_fipy = obj_gt.solve(expt = expt) \n",
    "        #save data \n",
    "        outputs[i] = obj_gt.forward_process(expt = expt) # 200 measurements on all the 4 boundaries\n",
    "    \n",
    "    cellcenters = obj_gt.x_fipy \n",
    "    \n",
    "    return cellcenters, inputs, outputs"
   ]
  },
  {
   "cell_type": "code",
   "execution_count": 6,
   "id": "abae09e7",
   "metadata": {},
   "outputs": [],
   "source": [
    "data_dict = {}\n",
    "expts_list = ['Expt-1', 'Expt-2', 'Expt-3']\n",
    "nx1, nx2 = 395, 395\n",
    "save = True\n",
    "for expt in expts_list: \n",
    "    cellcenters, inputs, outputs = data_generation(nx1, nx2, x_center_gt_set, expt)\n",
    "    data_dict[expt+'_inputs'] = inputs\n",
    "    data_dict[expt+'_outputs'] = outputs\n",
    "    if save==True:\n",
    "        np.save(expt+'_inputs_'+'cellcenters_nx1='+str(nx1)+'_nx2='+str(nx2)+'.npy',\n",
    "                data_dict[expt+'_inputs'])\n",
    "        np.save(expt+'_outputs_'+'cellcenters_nx1='+str(nx1)+'_nx2='+str(nx2)+'.npy', \n",
    "                data_dict[expt+'_outputs'])\n",
    "        np.save('cellcenters_nx1='+str(nx1)+'_nx2='+str(nx2)+'.npy', cellcenters)"
   ]
  },
  {
   "cell_type": "code",
   "execution_count": 7,
   "id": "a7f59529",
   "metadata": {},
   "outputs": [
    {
     "data": {
      "text/plain": [
       "((156025, 2), (3721, 2), (3721, 200))"
      ]
     },
     "execution_count": 7,
     "metadata": {},
     "output_type": "execute_result"
    }
   ],
   "source": [
    "#checks \n",
    "cellcenters.shape, data_dict['Expt-3'+'_inputs'].shape, data_dict['Expt-3'+'_outputs'].shape"
   ]
  },
  {
   "cell_type": "code",
   "execution_count": null,
   "id": "469fb489",
   "metadata": {},
   "outputs": [],
   "source": []
  },
  {
   "cell_type": "code",
   "execution_count": null,
   "id": "91c9d0b2",
   "metadata": {},
   "outputs": [],
   "source": []
  },
  {
   "cell_type": "markdown",
   "id": "ee3383e7",
   "metadata": {},
   "source": [
    "# checks"
   ]
  },
  {
   "cell_type": "code",
   "execution_count": 8,
   "id": "8adabe2d",
   "metadata": {},
   "outputs": [
    {
     "name": "stdout",
     "output_type": "stream",
     "text": [
      "[[0.00126582 0.00126582]\n",
      " [0.00379747 0.00126582]\n",
      " [0.00632911 0.00126582]\n",
      " ...\n",
      " [0.99367089 0.99873418]\n",
      " [0.99620253 0.99873418]\n",
      " [0.99873418 0.99873418]]\n"
     ]
    }
   ],
   "source": [
    "print(cellcenters)"
   ]
  },
  {
   "cell_type": "code",
   "execution_count": 9,
   "id": "f5271783",
   "metadata": {},
   "outputs": [],
   "source": [
    "import torch"
   ]
  },
  {
   "cell_type": "code",
   "execution_count": 10,
   "id": "d5ba2684",
   "metadata": {},
   "outputs": [
    {
     "name": "stdout",
     "output_type": "stream",
     "text": [
      "torch.Size([3721, 2]) torch.Size([3721, 200])\n"
     ]
    }
   ],
   "source": [
    "loader = torch.utils.data.DataLoader(torch.utils.data.TensorDataset(torch.from_numpy(data_dict[expt+'_inputs']),torch.from_numpy(data_dict[expt+'_outputs'])), batch_size=torch.from_numpy(data_dict[expt+'_inputs']).shape[0], shuffle=True)\n",
    "loader\n",
    "for x, y in loader:\n",
    "    print(x.shape, y.shape)"
   ]
  },
  {
   "cell_type": "code",
   "execution_count": null,
   "id": "d4c34b6f",
   "metadata": {},
   "outputs": [],
   "source": []
  },
  {
   "cell_type": "code",
   "execution_count": null,
   "id": "ef975738",
   "metadata": {},
   "outputs": [],
   "source": []
  }
 ],
 "metadata": {
  "kernelspec": {
   "display_name": "Python 3",
   "language": "python",
   "name": "python3"
  },
  "language_info": {
   "codemirror_mode": {
    "name": "ipython",
    "version": 3
   },
   "file_extension": ".py",
   "mimetype": "text/x-python",
   "name": "python",
   "nbconvert_exporter": "python",
   "pygments_lexer": "ipython3",
   "version": "3.6.10"
  }
 },
 "nbformat": 4,
 "nbformat_minor": 5
}
