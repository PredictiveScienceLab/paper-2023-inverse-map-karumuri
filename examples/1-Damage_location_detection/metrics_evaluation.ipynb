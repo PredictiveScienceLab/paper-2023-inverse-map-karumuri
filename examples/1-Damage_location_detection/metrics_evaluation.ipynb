{
 "cells": [
  {
   "cell_type": "code",
   "execution_count": 1,
   "id": "58a7e52b",
   "metadata": {},
   "outputs": [
    {
     "name": "stderr",
     "output_type": "stream",
     "text": [
      "/Users/sharmila/anaconda3/envs/py36_tf2/lib/python3.6/site-packages/ipykernel_launcher.py:16: MatplotlibDeprecationWarning: Support for setting the 'text.latex.preamble' or 'pgf.preamble' rcParam to a list of strings is deprecated since 3.3 and will be removed two minor releases later; set it to a single string instead.\n",
      "  app.launch_new_instance()\n"
     ]
    }
   ],
   "source": [
    "import numpy as np\n",
    "import torch\n",
    "from torch import nn\n",
    "import torch.distributions as dist\n",
    "import scipy.stats as st\n",
    "import pandas as pd\n",
    "import math\n",
    "import os\n",
    "import arviz as az\n",
    "from statistics import mean\n",
    "from IPython.display import display, Latex\n",
    "%matplotlib inline\n",
    "\n",
    "import matplotlib as mpl\n",
    "import matplotlib.pyplot as plt\n",
    "plt.rcParams['text.latex.preamble']=[r\"\\usepackage{lmodern}\"]\n",
    "params = {'text.usetex' : True,\n",
    "          'font.size' : 9,\n",
    "          'font.family' : 'lmodern'\n",
    "          }\n",
    "plt.rcParams.update(params) \n",
    "import seaborn as sns\n",
    "sns.set_context(\"paper\")\n",
    "sns.set_style(\"ticks\")\n",
    "\n",
    "import warnings\n",
    "warnings.filterwarnings(\"ignore\")"
   ]
  },
  {
   "cell_type": "code",
   "execution_count": 2,
   "id": "f8a424c7",
   "metadata": {},
   "outputs": [],
   "source": [
    "results_dir = os.path.join(os.getcwd(), 'results_metrics/')"
   ]
  },
  {
   "cell_type": "code",
   "execution_count": null,
   "id": "5bd0877e",
   "metadata": {},
   "outputs": [],
   "source": []
  },
  {
   "cell_type": "code",
   "execution_count": 3,
   "id": "3a41f703",
   "metadata": {},
   "outputs": [],
   "source": [
    "def plot(kstest_stats, d_xi):\n",
    "    #mpl.rcParams.update(mpl.rcParamsDefault)\n",
    "    #plt.rcParams.update({'font.size': 9})\n",
    "    \n",
    "    width = 7.5/2\n",
    "    height = width/1.6\n",
    "    figure, ax = plt.subplots(figsize=(width, height)) #figsize=(8, 6)\n",
    "    df = pd.DataFrame({'col':kstest_stats})\n",
    "    y, x, _=plt.hist(kstest_stats, bins = 30) #, label='Histogram of relative error in ' + title\n",
    "    #plt.grid(True)\n",
    "    #plt.legend(loc = 'best', fontsize = 12)\n",
    "    plt.xlabel(\"KS test statistic of \" + r'$\\xi_{%.0f}$' % (d_xi+1))\n",
    "    plt.ylabel(\"Count\",rotation=0)\n",
    "    ax.yaxis.set_label_coords(0.0, 1.05)\n",
    "    sns.despine(trim=True)\n",
    "    plt.tight_layout(pad=0.1)\n",
    "    plt.savefig('hist_kstest_stats_parameter'+ str(d_xi+1) +'.pdf', dpi=300, bbox_inches='tight')\n",
    "    plt.show()"
   ]
  },
  {
   "cell_type": "code",
   "execution_count": 4,
   "id": "15d3e254",
   "metadata": {},
   "outputs": [
    {
     "data": {
      "image/png": "[encoded data removed]",
      "text/plain": [
       "<Figure size 270x168.75 with 1 Axes>"
      ]
     },
     "metadata": {},
     "output_type": "display_data"
    },
    {
     "data": {
      "image/png": "[encoded data removed]",
      "text/plain": [
       "<Figure size 270x168.75 with 1 Axes>"
      ]
     },
     "metadata": {},
     "output_type": "display_data"
    }
   ],
   "source": [
    "for d_xi in range(2):\n",
    "    kstest_stats = []\n",
    "    \n",
    "    for j in range(100):\n",
    "        xi_samples_AVI = torch.load(results_dir +str(j)+'_AVI'+'_xi_samples.pt')\n",
    "        xi_samples_MCMC = torch.load(results_dir +str(j)+'_MCMC'+'_xi_samples.pt')\n",
    "        kstest_stat, _ = st.kstest(xi_samples_AVI[:,d_xi].detach().numpy(), xi_samples_MCMC[:,d_xi].detach().numpy())\n",
    "        kstest_stats.append(kstest_stat)\n",
    "    plot(kstest_stats, d_xi)    "
   ]
  },
  {
   "cell_type": "code",
   "execution_count": null,
   "id": "06ce6613",
   "metadata": {},
   "outputs": [],
   "source": []
  },
  {
   "cell_type": "code",
   "execution_count": 5,
   "id": "6ffb40e4",
   "metadata": {},
   "outputs": [],
   "source": [
    "from utilities3 import *\n",
    "from networks import *\n",
    "\n",
    "class EIT_fipy():\n",
    "    \"\"\"\n",
    "    Class that solves forward electrostatic EIT BVP for different boundary conditions using fipy package for a circular damage.\n",
    "    x_centers:  Location of the damage centers.\n",
    "    \"\"\"\n",
    "    def __init__(self, x_centers):\n",
    "        \n",
    "        # defects with radius r=0.1 at x_centers\n",
    "        self.x_centers = x_centers # (N x 2)\n",
    "\n",
    "        self.Expts_description = {\n",
    "                                'Expt-1': 'Unit current applied on all the sides',\n",
    "                                'Expt-2': 'Unit current on left and right, no current on the other sides',\n",
    "                                'Expt-3': 'Unit current on top and bottom, no current on the other sides'\n",
    "                                }\n",
    "        \n",
    "            \n",
    "    def forward_process_preds(self):\n",
    "        \n",
    "        u_preds_dict = {}\n",
    "        \n",
    "        for expt in self.Expts_description.keys():\n",
    "        \n",
    "            xc_normalizer = load_object('x_normalizer_'+expt+'.pkl')\n",
    "            u_normalizer = load_object('y_normalizer_'+expt+'.pkl')\n",
    "\n",
    "            x_centers_ = xc_normalizer.encode(self.x_centers)\n",
    "\n",
    "            model_surrogate_state_dict = torch.load('model_state_dict_'+expt+'.pt')\n",
    "            model_surrogate = DenseResNet(dim_in=x_centers_.shape[1], dim_out=200, num_resnet_blocks=5, \n",
    "                     num_layers_per_block=3, num_neurons=60, activation=nn.SiLU())\n",
    "            model_surrogate.load_state_dict(model_surrogate_state_dict)\n",
    "\n",
    "            u_preds_dict[expt] = u_normalizer.decode(model_surrogate(x_centers_))\n",
    "        \n",
    "        u_preds = torch.hstack((u_preds_dict['Expt-1'], u_preds_dict['Expt-2'], u_preds_dict['Expt-3']))\n",
    "        return u_preds"
   ]
  },
  {
   "cell_type": "code",
   "execution_count": 6,
   "id": "179d294b",
   "metadata": {},
   "outputs": [
    {
     "data": {
      "text/plain": [
       "(torch.Size([100, 2]), torch.Size([100, 600]))"
      ]
     },
     "execution_count": 6,
     "metadata": {},
     "output_type": "execute_result"
    }
   ],
   "source": [
    "xi_data, y_data = torch.load(results_dir +'xi_data.pt'), torch.load(results_dir +'y_data.pt')\n",
    "xi_data.shape, y_data.shape"
   ]
  },
  {
   "cell_type": "code",
   "execution_count": 7,
   "id": "4351b131",
   "metadata": {},
   "outputs": [
    {
     "name": "stdout",
     "output_type": "stream",
     "text": [
      "tensor(0.0106, grad_fn=<DivBackward0>)\n"
     ]
    }
   ],
   "source": [
    "metric = 0\n",
    "for j in range(100):\n",
    "    \n",
    "    xi_samples_AVI = torch.load(results_dir +str(j)+'_AVI'+'_xi_samples.pt')\n",
    "    diff = EIT_fipy(xi_samples_AVI).forward_process_preds() - EIT_fipy(xi_data[j].reshape(1,-1)).forward_process_preds()\n",
    "    #print(diff.shape)\n",
    "    \n",
    "    metric += torch.linalg.norm(diff, 2, dim=1).mean()\n",
    "    \n",
    "print(metric/100)"
   ]
  },
  {
   "cell_type": "code",
   "execution_count": null,
   "id": "5d34da63",
   "metadata": {},
   "outputs": [],
   "source": []
  },
  {
   "cell_type": "code",
   "execution_count": null,
   "id": "0a5d7ffb",
   "metadata": {},
   "outputs": [],
   "source": []
  }
 ],
 "metadata": {
  "kernelspec": {
   "display_name": "Python 3",
   "language": "python",
   "name": "python3"
  },
  "language_info": {
   "codemirror_mode": {
    "name": "ipython",
    "version": 3
   },
   "file_extension": ".py",
   "mimetype": "text/x-python",
   "name": "python",
   "nbconvert_exporter": "python",
   "pygments_lexer": "ipython3",
   "version": "3.6.10"
  }
 },
 "nbformat": 4,
 "nbformat_minor": 5
}
