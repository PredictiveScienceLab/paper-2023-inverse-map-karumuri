{
 "cells": [
  {
   "cell_type": "code",
   "execution_count": 1,
   "id": "b912aae7",
   "metadata": {},
   "outputs": [],
   "source": [
    "import numpy as np\n",
    "import torch\n",
    "import torch.nn as nn\n",
    "import torch.nn.functional as F\n",
    "from torch.nn.parameter import Parameter\n",
    "import matplotlib.pyplot as plt\n",
    "from timeit import default_timer\n",
    "import sys\n",
    "import os\n",
    "\n",
    "from utilities3 import *\n",
    "from networks import *\n",
    "\n",
    "import warnings\n",
    "warnings.filterwarnings(\"ignore\")\n",
    "\n",
    "torch.manual_seed(0)\n",
    "np.random.seed(0)"
   ]
  },
  {
   "cell_type": "code",
   "execution_count": 2,
   "id": "bf00a311",
   "metadata": {},
   "outputs": [],
   "source": [
    "expt = 'Expt-3'\n",
    "save = True"
   ]
  },
  {
   "cell_type": "code",
   "execution_count": 3,
   "id": "c36ba1a8",
   "metadata": {},
   "outputs": [],
   "source": [
    "if save==True:\n",
    "    orig_stdout = sys.stdout\n",
    "    q = open('Surrogate_'+str(expt)+'.txt', 'w')\n",
    "    sys.stdout = q"
   ]
  },
  {
   "cell_type": "markdown",
   "id": "1eba64de",
   "metadata": {},
   "source": [
    "### load data and data normalization"
   ]
  },
  {
   "cell_type": "code",
   "execution_count": 4,
   "id": "d033a9ac",
   "metadata": {},
   "outputs": [],
   "source": [
    "X_data = torch.tensor(np.load(str(expt)+'_inputs_cellcenters_nx1=395_nx2=395.npy'), dtype=torch.float)\n",
    "Y_data = torch.tensor(np.load(str(expt)+'_outputs_cellcenters_nx1=395_nx2=395.npy'), dtype=torch.float)\n",
    "\n",
    "print('-'*50)\n",
    "print('shuffling the data:')\n",
    "data_loader = torch.utils.data.DataLoader(torch.utils.data.TensorDataset(X_data, Y_data), batch_size=X_data.shape[0], shuffle=True)\n",
    "for x, y in data_loader:\n",
    "    X_data = x\n",
    "    Y_data = y\n",
    "print (X_data.shape, Y_data.shape)\n",
    "\n",
    "print('-'*50)\n",
    "print('splitting the data into train and test:')\n",
    "ntrain = X_data.shape[0]-150\n",
    "ntest = 150\n",
    "\n",
    "X_train = X_data[0:ntrain]\n",
    "Y_train = Y_data[0:ntrain]\n",
    "\n",
    "print(X_train.shape, Y_train.shape)\n",
    "\n",
    "X_test = X_data[-ntest:]\n",
    "Y_test = Y_data[-ntest:]\n",
    "\n",
    "print(X_test.shape, Y_test.shape)\n",
    "\n",
    "print('-'*50)\n",
    "print('normalizing the data:')\n",
    "x_normalizer = GaussianNormalizer(X_train)\n",
    "x_train = x_normalizer.encode(X_train)\n",
    "x_test = x_normalizer.encode(X_test)\n",
    "\n",
    "y_normalizer = GaussianNormalizer(Y_train)\n",
    "y_train = y_normalizer.encode(Y_train)\n",
    "\n",
    "print(x_train.shape, y_train.shape, x_test.shape)\n"
   ]
  },
  {
   "cell_type": "code",
   "execution_count": 5,
   "id": "1e7e0722",
   "metadata": {},
   "outputs": [],
   "source": [
    "#checks\n",
    "print(x_train[0])\n",
    "print(x_train[0].shape)"
   ]
  },
  {
   "cell_type": "markdown",
   "id": "df108178",
   "metadata": {},
   "source": [
    "### training and testing"
   ]
  },
  {
   "cell_type": "code",
   "execution_count": 6,
   "id": "702321ba",
   "metadata": {},
   "outputs": [],
   "source": [
    "################################################################\n",
    "# configs\n",
    "################################################################\n",
    "batch_size = 32\n",
    "learning_rate = 0.001\n",
    "epochs = 30"
   ]
  },
  {
   "cell_type": "code",
   "execution_count": 7,
   "id": "1707d467",
   "metadata": {},
   "outputs": [],
   "source": [
    "def sum_squared_error(a, b):\n",
    "    return torch.sum((a-b)**2)"
   ]
  },
  {
   "cell_type": "code",
   "execution_count": 8,
   "id": "424a075a",
   "metadata": {},
   "outputs": [],
   "source": [
    "train_loader = torch.utils.data.DataLoader(torch.utils.data.TensorDataset(x_train, y_train), batch_size=batch_size, shuffle=True)\n",
    "test_loader = torch.utils.data.DataLoader(torch.utils.data.TensorDataset(x_test, Y_test), batch_size=batch_size, shuffle=False)\n",
    "\n",
    "################################################################\n",
    "# training and evaluation\n",
    "################################################################\n",
    "model = DenseResNet(dim_in=x_train.shape[1], dim_out=y_train.shape[1], num_resnet_blocks=5, \n",
    "                 num_layers_per_block=3, num_neurons=60, activation=nn.SiLU())\n",
    "print(count_params(model))\n",
    "\n",
    "optimizer = torch.optim.Adam(model.parameters(), lr=learning_rate)\n",
    "\n",
    "for ep in range(epochs):\n",
    "    \n",
    "    model.train()\n",
    "    t1 = default_timer()\n",
    "    \n",
    "    for x, y in train_loader:\n",
    "        \n",
    "        optimizer.zero_grad()\n",
    "        output = model(x)\n",
    "        target = y\n",
    "        loss = sum_squared_error(output, target)/target.shape[0]\n",
    "        loss.backward()\n",
    "\n",
    "        optimizer.step()\n",
    "\n",
    "    model.eval()\n",
    "    with torch.no_grad():\n",
    "        train_mse = sum_squared_error(y_normalizer.decode(model(x_train)), Y_train).item()/ntrain\n",
    "        test_mse = 0.0\n",
    "        for x, y in test_loader:\n",
    "            output = y_normalizer.decode(model(x))\n",
    "            test_mse += sum_squared_error(output, y).item()\n",
    "        test_mse /= ntest \n",
    "\n",
    "    t2 = default_timer()\n",
    "    print(ep, t2-t1, train_mse, test_mse)\n"
   ]
  },
  {
   "cell_type": "code",
   "execution_count": 9,
   "id": "90f7d79d",
   "metadata": {},
   "outputs": [],
   "source": [
    "print(y_normalizer.decode(model(x_test)))"
   ]
  },
  {
   "cell_type": "code",
   "execution_count": 10,
   "id": "9c36646c",
   "metadata": {},
   "outputs": [],
   "source": [
    "print(Y_test)"
   ]
  },
  {
   "cell_type": "code",
   "execution_count": 11,
   "id": "ec94151c",
   "metadata": {},
   "outputs": [],
   "source": [
    "if save==True:\n",
    "    save_object(x_normalizer, 'x_normalizer_'+str(expt)+'.pkl')\n",
    "    save_object(y_normalizer, 'y_normalizer_'+str(expt)+'.pkl')\n",
    "    torch.save(model.state_dict(), 'model_state_dict_'+str(expt)+'.pt')"
   ]
  },
  {
   "cell_type": "code",
   "execution_count": 12,
   "id": "0b17d855",
   "metadata": {},
   "outputs": [],
   "source": [
    "if save==True:\n",
    "    sys.stdout = orig_stdout\n",
    "    q.close()"
   ]
  },
  {
   "cell_type": "code",
   "execution_count": null,
   "id": "65c58ff6",
   "metadata": {},
   "outputs": [],
   "source": []
  }
 ],
 "metadata": {
  "kernelspec": {
   "display_name": "Python 3",
   "language": "python",
   "name": "python3"
  },
  "language_info": {
   "codemirror_mode": {
    "name": "ipython",
    "version": 3
   },
   "file_extension": ".py",
   "mimetype": "text/x-python",
   "name": "python",
   "nbconvert_exporter": "python",
   "pygments_lexer": "ipython3",
   "version": "3.6.10"
  }
 },
 "nbformat": 4,
 "nbformat_minor": 5
}
