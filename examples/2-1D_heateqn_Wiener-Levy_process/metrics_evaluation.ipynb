{
 "cells": [
  {
   "cell_type": "code",
   "execution_count": 1,
   "id": "a09ddf8e",
   "metadata": {},
   "outputs": [
    {
     "name": "stderr",
     "output_type": "stream",
     "text": [
      "/Users/sharmila/anaconda3/envs/py36_tf2/lib/python3.6/site-packages/ipykernel_launcher.py:16: MatplotlibDeprecationWarning: Support for setting the 'text.latex.preamble' or 'pgf.preamble' rcParam to a list of strings is deprecated since 3.3 and will be removed two minor releases later; set it to a single string instead.\n",
      "  app.launch_new_instance()\n"
     ]
    }
   ],
   "source": [
    "import numpy as np\n",
    "import torch\n",
    "from torch import nn\n",
    "import torch.distributions as dist\n",
    "import scipy.stats as st\n",
    "import pandas as pd\n",
    "import math\n",
    "import os\n",
    "import arviz as az\n",
    "from statistics import mean\n",
    "from IPython.display import display, Latex\n",
    "%matplotlib inline\n",
    "\n",
    "import matplotlib as mpl\n",
    "import matplotlib.pyplot as plt\n",
    "plt.rcParams['text.latex.preamble']=[r\"\\usepackage{lmodern}\"]\n",
    "params = {'text.usetex' : True,\n",
    "          'font.size' : 9,\n",
    "          'font.family' : 'lmodern'\n",
    "          }\n",
    "plt.rcParams.update(params) \n",
    "import seaborn as sns\n",
    "sns.set_context(\"paper\")\n",
    "sns.set_style(\"ticks\")\n",
    "\n",
    "import warnings\n",
    "warnings.filterwarnings(\"ignore\")\n",
    "\n",
    "from networks import *"
   ]
  },
  {
   "cell_type": "code",
   "execution_count": 2,
   "id": "8d92e574",
   "metadata": {},
   "outputs": [],
   "source": [
    "results_dir = os.path.join(os.getcwd(), 'results_metrics/')"
   ]
  },
  {
   "cell_type": "code",
   "execution_count": null,
   "id": "54ea34d7",
   "metadata": {},
   "outputs": [],
   "source": []
  },
  {
   "cell_type": "code",
   "execution_count": 3,
   "id": "1e394af4",
   "metadata": {},
   "outputs": [],
   "source": [
    "sns.set_context(\"paper\")\n",
    "sns.set_style(\"ticks\")\n",
    "def plot(kstest_stats, d_xi):\n",
    "    #mpl.rcParams.update(mpl.rcParamsDefault)\n",
    "    #plt.rcParams.update({'font.size': 9})\n",
    "    \n",
    "    width = 7.5/2\n",
    "    height = width/1.6\n",
    "    figure, ax = plt.subplots(figsize=(width, height)) #figsize=(8, 6)\n",
    "    df = pd.DataFrame({'col':kstest_stats})\n",
    "    y, x, _=plt.hist(kstest_stats, bins = 30) #, label='Histogram of relative error in ' + title\n",
    "    #plt.grid(True)\n",
    "    #plt.legend(loc = 'best', fontsize = 12)\n",
    "    plt.xlabel(\"KS test statistic of \" + r'$\\xi_{%.0f}$' % (d_xi+1))\n",
    "    plt.ylabel(\"Count\",rotation=0)\n",
    "    ax.yaxis.set_label_coords(0.0, 1.05)\n",
    "    sns.despine(trim=True)\n",
    "    plt.tight_layout(pad=0.1)\n",
    "    plt.savefig('hist_kstest_stats_parameter'+ str(d_xi+1) +'.pdf', dpi=300, bbox_inches='tight')\n",
    "    plt.show()"
   ]
  },
  {
   "cell_type": "code",
   "execution_count": 4,
   "id": "1d9302fb",
   "metadata": {},
   "outputs": [
    {
     "data": {
      "image/png": "[encoded data removed]",
      "text/plain": [
       "<Figure size 270x168.75 with 1 Axes>"
      ]
     },
     "metadata": {},
     "output_type": "display_data"
    },
    {
     "data": {
      "image/png": "[encoded data removed]",
      "text/plain": [
       "<Figure size 270x168.75 with 1 Axes>"
      ]
     },
     "metadata": {},
     "output_type": "display_data"
    },
    {
     "data": {
      "image/png": "[encoded data removed]",
      "text/plain": [
       "<Figure size 270x168.75 with 1 Axes>"
      ]
     },
     "metadata": {},
     "output_type": "display_data"
    },
    {
     "data": {
      "image/png": "[encoded data removed]",
      "text/plain": [
       "<Figure size 270x168.75 with 1 Axes>"
      ]
     },
     "metadata": {},
     "output_type": "display_data"
    },
    {
     "data": {
      "image/png": "[encoded data removed]",
      "text/plain": [
       "<Figure size 270x168.75 with 1 Axes>"
      ]
     },
     "metadata": {},
     "output_type": "display_data"
    }
   ],
   "source": [
    "for d_xi in range(5):\n",
    "    kstest_stats = []\n",
    "    \n",
    "    for j in range(100):\n",
    "        xi_samples_AVI = torch.load(results_dir +str(j)+'_AVI'+'_xi_samples.pt')\n",
    "        xi_samples_MCMC = torch.load(results_dir +str(j)+'_MCMC'+'_xi_samples.pt')\n",
    "        kstest_stat, _ = st.kstest(xi_samples_AVI[:,d_xi].detach().numpy(), xi_samples_MCMC[:,d_xi].detach().numpy())\n",
    "        kstest_stats.append(kstest_stat)\n",
    "    plot(kstest_stats, d_xi)    "
   ]
  },
  {
   "cell_type": "code",
   "execution_count": null,
   "id": "f0b2a80f",
   "metadata": {},
   "outputs": [],
   "source": []
  },
  {
   "cell_type": "code",
   "execution_count": 5,
   "id": "439ecf74",
   "metadata": {},
   "outputs": [
    {
     "name": "stdout",
     "output_type": "stream",
     "text": [
      "tensor([0.1500, 0.2375, 0.3250, 0.4125, 0.5000, 0.5875, 0.6750, 0.7625, 0.8500])\n"
     ]
    }
   ],
   "source": [
    "d_xi = 5 #  number of terms to consider\n",
    "\n",
    "x_gt = torch.linspace(0., 1, 100)\n",
    "x_ticks = torch.linspace(0.15, 0.85, 9) # Measurements of output at this x-locations\n",
    "print(x_ticks)\n",
    "\n",
    "\n",
    "# loading trained pinn model\n",
    "pinn_state_dict = torch.load('model_state_dict_pinn.pt')\n",
    "pinn = DenseResNet(dim_in=1+(d_xi), dim_out=1, num_resnet_blocks=5, \n",
    "                 num_layers_per_block=3, num_neurons=40, activation=nn.SiLU())\n",
    "pinn.load_state_dict(pinn_state_dict)\n",
    "\n",
    "B1 = 1 # boundary_value_left\n",
    "B2 = 0 # boundary_value_right\n",
    "u_trail = lambda x, inputs, net: (B1*(1-x))+(B2*x)+(x*(1-x)*net(inputs))\n",
    "\n",
    "\n",
    "def forward_process(xi): # N x d_xi\n",
    "    \"\"\"\n",
    "    Implements the forward process f(xi) and \n",
    "    returns the output field values at the measurement locations.\n",
    "    \"\"\"\n",
    "    xi = xi.reshape(-1,d_xi)\n",
    "    outputs = torch.zeros(xi.shape[0], len(x_ticks))\n",
    "    for i in range(xi.shape[0]):\n",
    "        inputs_i = torch.hstack([x_ticks.reshape(-1,1), xi[i].repeat(len(x_ticks),1)])\n",
    "        u_pred_i = u_trail(x_ticks.reshape(-1,1), inputs_i, pinn) \n",
    "        outputs[i] = u_pred_i.flatten()\n",
    "    return outputs"
   ]
  },
  {
   "cell_type": "code",
   "execution_count": 6,
   "id": "eec8647a",
   "metadata": {},
   "outputs": [
    {
     "data": {
      "text/plain": [
       "(torch.Size([100, 5]), torch.Size([100, 9]))"
      ]
     },
     "execution_count": 6,
     "metadata": {},
     "output_type": "execute_result"
    }
   ],
   "source": [
    "xi_data, y_data = torch.load(results_dir +'xi_data.pt'), torch.load(results_dir +'y_data.pt')\n",
    "xi_data.shape, y_data.shape"
   ]
  },
  {
   "cell_type": "code",
   "execution_count": 7,
   "id": "6655199e",
   "metadata": {},
   "outputs": [
    {
     "name": "stdout",
     "output_type": "stream",
     "text": [
      "tensor(0.0405, grad_fn=<DivBackward0>)\n"
     ]
    }
   ],
   "source": [
    "metric = 0\n",
    "for j in range(100):\n",
    "    \n",
    "    xi_samples_AVI = torch.load(results_dir +str(j)+'_AVI'+'_xi_samples.pt')\n",
    "    diff = forward_process(xi_samples_AVI) - forward_process(xi_data[j].reshape(1,-1))\n",
    "    #print(diff.shape)\n",
    "    \n",
    "    metric += torch.linalg.norm(diff, 2, dim=1).mean()\n",
    "    \n",
    "print(metric/100)"
   ]
  },
  {
   "cell_type": "code",
   "execution_count": 8,
   "id": "a6ebf369",
   "metadata": {},
   "outputs": [
    {
     "data": {
      "text/plain": [
       "0.0405"
      ]
     },
     "execution_count": 8,
     "metadata": {},
     "output_type": "execute_result"
    }
   ],
   "source": [
    "4.05*1e-2"
   ]
  },
  {
   "cell_type": "code",
   "execution_count": null,
   "id": "573e2018",
   "metadata": {},
   "outputs": [],
   "source": []
  }
 ],
 "metadata": {
  "kernelspec": {
   "display_name": "Python 3",
   "language": "python",
   "name": "python3"
  },
  "language_info": {
   "codemirror_mode": {
    "name": "ipython",
    "version": 3
   },
   "file_extension": ".py",
   "mimetype": "text/x-python",
   "name": "python",
   "nbconvert_exporter": "python",
   "pygments_lexer": "ipython3",
   "version": "3.6.10"
  }
 },
 "nbformat": 4,
 "nbformat_minor": 5
}
